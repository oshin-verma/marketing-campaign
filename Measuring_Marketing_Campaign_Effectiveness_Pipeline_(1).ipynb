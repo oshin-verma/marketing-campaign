{
  "nbformat": 4,
  "nbformat_minor": 0,
  "metadata": {
    "colab": {
      "provenance": [],
      "include_colab_link": true
    },
    "kernelspec": {
      "name": "python3",
      "display_name": "Python 3"
    },
    "language_info": {
      "name": "python"
    }
  },
  "cells": [
    {
      "cell_type": "markdown",
      "metadata": {
        "id": "view-in-github",
        "colab_type": "text"
      },
      "source": [
        "<a href=\"https://colab.research.google.com/github/oshin-verma/marketing-campaign/blob/main/Measuring_Marketing_Campaign_Effectiveness_Pipeline_(1).ipynb\" target=\"_parent\"><img src=\"https://colab.research.google.com/assets/colab-badge.svg\" alt=\"Open In Colab\"/></a>"
      ]
    },
    {
      "cell_type": "code",
      "execution_count": null,
      "metadata": {
        "id": "3rDHFnmS8NjB"
      },
      "outputs": [],
      "source": [
        "import pandas as pd\n",
        "import numpy as np"
      ]
    },
    {
      "cell_type": "code",
      "source": [
        "df = pd.read_csv('marketing_campaign (1).csv')"
      ],
      "metadata": {
        "id": "-O7_HEBXu4Ou"
      },
      "execution_count": null,
      "outputs": []
    },
    {
      "cell_type": "code",
      "source": [
        "df['Total_Conversions'] = df[['AcceptedCmp1', 'AcceptedCmp2', 'AcceptedCmp3',\n",
        "                          'AcceptedCmp4', 'AcceptedCmp5']].sum(axis=1)"
      ],
      "metadata": {
        "id": "uvWdkmIru8YO"
      },
      "execution_count": null,
      "outputs": []
    },
    {
      "cell_type": "code",
      "source": [
        "df['Conversion_Rate'] = df['Total_Conversions'] / ( df['AcceptedCmp1'] +\n",
        "                        df['AcceptedCmp2'] + df['AcceptedCmp3'] +\n",
        "                        df['AcceptedCmp4'] + df['AcceptedCmp5'])\n",
        "df['Conversion_Rate'] = df['Conversion_Rate'].fillna(0)"
      ],
      "metadata": {
        "id": "HDdfRw8gveJw"
      },
      "execution_count": null,
      "outputs": []
    },
    {
      "cell_type": "code",
      "source": [
        "df['CPA'] = df['Z_CostContact'] / df['Total_Conversions']\n",
        "\n",
        "df['CPA'] = np.where(np.isinf(df['CPA']) | df['CPA'].isna(), 0, df['CPA'])"
      ],
      "metadata": {
        "id": "dPJLsRROv-Zn"
      },
      "execution_count": null,
      "outputs": []
    },
    {
      "cell_type": "code",
      "source": [
        "print(df['CPA'])"
      ],
      "metadata": {
        "colab": {
          "base_uri": "https://localhost:8080/"
        },
        "id": "yBydKjYBxXQB",
        "outputId": "8d6120e1-410c-45c2-9ee1-582d5c09a7ec"
      },
      "execution_count": null,
      "outputs": [
        {
          "output_type": "stream",
          "name": "stdout",
          "text": [
            "0       0.0\n",
            "1       0.0\n",
            "2       0.0\n",
            "3       0.0\n",
            "4       0.0\n",
            "       ... \n",
            "2235    0.0\n",
            "2236    3.0\n",
            "2237    3.0\n",
            "2238    0.0\n",
            "2239    0.0\n",
            "Name: CPA, Length: 2240, dtype: float64\n"
          ]
        }
      ]
    },
    {
      "cell_type": "code",
      "source": [
        "df['ROI'] = (df['Z_Revenue'] - df['Z_CostContact']) / df['Z_CostContact'] * 100"
      ],
      "metadata": {
        "id": "Rt_jXqKiwhN9"
      },
      "execution_count": null,
      "outputs": []
    },
    {
      "cell_type": "code",
      "source": [
        "df['Total_Leads'] = df[['NumWebPurchases', 'NumCatalogPurchases',\n",
        "                    'NumStorePurchases']].sum(axis=1)"
      ],
      "metadata": {
        "id": "0U5DLkExwyQz"
      },
      "execution_count": null,
      "outputs": []
    },
    {
      "cell_type": "code",
      "source": [
        "df['Max_Leads_Source'] = df[['NumWebPurchases', 'NumCatalogPurchases',\n",
        "                         'NumStorePurchases']].idxmax(axis=1)"
      ],
      "metadata": {
        "id": "_irT90bKxHbB"
      },
      "execution_count": null,
      "outputs": []
    },
    {
      "cell_type": "code",
      "source": [
        "output_df = df[['ID','Year_Birth','Income','Kidhome','Teenhome','Dt_Customer','Recency',\n",
        "'Total_Conversions','Conversion_Rate','CPA','ROI','Total_Leads',\n",
        "'Max_Leads_Source','Z_CostContact','Z_Revenue','NumWebPurchases',\n",
        "'NumCatalogPurchases','NumStorePurchases']]\n",
        "\n",
        "output_df.to_csv('campaign_performance_for_powerbi321.csv', index=False)\n",
        "print(\"CSV created: 'campaign_performance_for_powerbi321.csv'\")"
      ],
      "metadata": {
        "colab": {
          "base_uri": "https://localhost:8080/"
        },
        "id": "Nn_8IwqpxVnb",
        "outputId": "4edb2c01-c80d-42b9-b31c-aab63dce85f1"
      },
      "execution_count": null,
      "outputs": [
        {
          "output_type": "stream",
          "name": "stdout",
          "text": [
            "CSV created: 'campaign_performance_for_powerbi321.csv'\n"
          ]
        }
      ]
    },
    {
      "cell_type": "code",
      "source": [
        "df['Total_Purchases'] = df[['NumWebPurchases', 'NumCatalogPurchases',\n",
        "                        'NumStorePurchases']].sum(axis=1)\n",
        "\n",
        "df['Total_Spent'] = df[['MntWines', 'MntFruits', 'MntMeatProducts', 'MntFishProducts', 'MntSweetProducts', 'MntGoldProds']].sum(axis=1)\n",
        "\n",
        "df.to_csv('updated_campaign_data_with_purchases_and_spent.csv', index=False)\n",
        "\n",
        "print(\"CSV updated: 'updated_campaign_data_with_purchases_and_spent.csv' with Total_Purchases & Total_Spent\")"
      ],
      "metadata": {
        "colab": {
          "base_uri": "https://localhost:8080/"
        },
        "id": "RAnroxxJyLkE",
        "outputId": "befe63e4-820c-4f70-a5ab-2726b12f7b2f"
      },
      "execution_count": null,
      "outputs": [
        {
          "output_type": "stream",
          "name": "stdout",
          "text": [
            "CSV updated: 'updated_campaign_data_with_purchases_and_spent.csv' with Total_Purchases & Total_Spent\n"
          ]
        }
      ]
    },
    {
      "cell_type": "code",
      "source": [
        "df.to_csv('updated_last.csv', index=False)\n",
        "print(\"Final cleaned file saved as: 'updated_last.csv'\")"
      ],
      "metadata": {
        "colab": {
          "base_uri": "https://localhost:8080/"
        },
        "id": "PuqV0jj7ynxV",
        "outputId": "98159a74-9502-4182-b121-004faffbc5ab"
      },
      "execution_count": null,
      "outputs": [
        {
          "output_type": "stream",
          "name": "stdout",
          "text": [
            "Final cleaned file saved as: 'updated_last.csv'\n"
          ]
        }
      ]
    },
    {
      "cell_type": "code",
      "source": [
        "print(df[['ID', 'Total_Purchases', 'Total_Spent']].head(10))"
      ],
      "metadata": {
        "colab": {
          "base_uri": "https://localhost:8080/"
        },
        "id": "mEuvl3PPy4Az",
        "outputId": "f0fe7df1-aebd-4164-c1d1-441e01206ac3"
      },
      "execution_count": null,
      "outputs": [
        {
          "output_type": "stream",
          "name": "stdout",
          "text": [
            "     ID  Total_Purchases  Total_Spent\n",
            "0  5524               22         1617\n",
            "1  2174                4           27\n",
            "2  4141               20          776\n",
            "3  6182                6           53\n",
            "4  5324               14          422\n",
            "5  7446               20          716\n",
            "6   965               17          590\n",
            "7  6177                8          169\n",
            "8  4855                5           46\n",
            "9  5899                1           49\n"
          ]
        }
      ]
    },
    {
      "cell_type": "code",
      "source": [],
      "metadata": {
        "id": "D75xe_ADzCNA"
      },
      "execution_count": null,
      "outputs": []
    }
  ]
}